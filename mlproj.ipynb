{
  "cells": [
    {
      "cell_type": "code",
      "execution_count": null,
      "metadata": {
        "id": "__DXyihtf6s2"
      },
      "outputs": [],
      "source": [
        "import os\n",
        "import pandas as pd \n",
        "import numpy as np\n",
        "import matplotlib\n",
        "import matplotlib.pyplot as plt\n",
        "import seaborn as sns\n",
        "from sklearn.model_selection import train_test_split\n",
        "from sklearn.impute import SimpleImputer\n",
        "from google.colab import drive\n",
        "import gc\n",
        "from sklearn.metrics import classification_report\n",
        "from google.colab import files\n"
      ]
    },
    {
      "cell_type": "code",
      "execution_count": null,
      "metadata": {
        "colab": {
          "base_uri": "https://localhost:8080/"
        },
        "id": "Jtm8S_oGf_T_",
        "outputId": "59e132db-683a-43e1-a029-6d0b9b23b5ee"
      },
      "outputs": [
        {
          "name": "stdout",
          "output_type": "stream",
          "text": [
            "Size of train_id - rows: 144233, columns: 41\n",
            "Size of train_transaction - rows:590540, columns: 394\n",
            "Size of train - rows : 590540, columns : 434\n"
          ]
        },
        {
          "data": {
            "text/plain": [
              "(590540, 434)"
            ]
          },
          "execution_count": 4,
          "metadata": {},
          "output_type": "execute_result"
        }
      ],
      "source": [
        "\n",
        "\n",
        "train_id = pd.read_csv('drive/MyDrive/train_identity.csv')\n",
        "train_transaction = pd.read_csv('drive/MyDrive/train_transaction.csv')\n",
        "\n",
        "print(f'Size of train_id - rows: {train_id.shape[0]}, columns: {train_id.shape[1]}')\n",
        "print(f'Size of train_transaction - rows:{train_transaction.shape[0]}, columns: {train_transaction.shape[1]}')\n",
        "# combine the data and work with the whole dataset\n",
        "train = train_transaction.merge(train_id,on=['TransactionID'],how='left') \n",
        "print(f'Size of train - rows : {train.shape[0]}, columns : {train.shape[1]}')\n",
        "\n",
        "train.shape\n"
      ]
    },
    {
      "cell_type": "markdown",
      "metadata": {
        "id": "Gfz-Iz2e7Oiu"
      },
      "source": [
        "a lot of memory usage"
      ]
    },
    {
      "cell_type": "code",
      "execution_count": null,
      "metadata": {
        "colab": {
          "base_uri": "https://localhost:8080/"
        },
        "id": "n6gzUCOV6T6l",
        "outputId": "f369e19c-11a5-4515-8de8-cf8d70f20a68"
      },
      "outputs": [
        {
          "name": "stdout",
          "output_type": "stream",
          "text": [
            "train dataframe is using 2.51 GB of memory storage\n"
          ]
        }
      ],
      "source": [
        "train_GB = train.memory_usage(deep = True).sum()/1024**3 \n",
        "print(f'train dataframe is using {train_GB:.2f} GB of memory storage')"
      ]
    },
    {
      "cell_type": "code",
      "execution_count": null,
      "metadata": {
        "colab": {
          "base_uri": "https://localhost:8080/"
        },
        "id": "7STtglJvlCJi",
        "outputId": "8b107064-623e-47aa-aa2b-2d5f81c8e322"
      },
      "outputs": [
        {
          "data": {
            "text/plain": [
              "<function gc.collect>"
            ]
          },
          "execution_count": 5,
          "metadata": {},
          "output_type": "execute_result"
        }
      ],
      "source": [
        "del train_id\n",
        "del train_transaction\n",
        "gc.collect"
      ]
    },
    {
      "cell_type": "code",
      "execution_count": null,
      "metadata": {
        "colab": {
          "base_uri": "https://localhost:8080/"
        },
        "id": "DT8NLXPoxpS5",
        "outputId": "fe7e3512-9ce8-43b0-ef3f-ee917e544120"
      },
      "outputs": [
        {
          "data": {
            "text/plain": [
              "(50001, 434)"
            ]
          },
          "execution_count": 6,
          "metadata": {},
          "output_type": "execute_result"
        }
      ],
      "source": [
        "train=train.truncate(after=50000)\n",
        "train.shape"
      ]
    },
    {
      "cell_type": "code",
      "execution_count": null,
      "metadata": {
        "colab": {
          "base_uri": "https://localhost:8080/",
          "height": 235
        },
        "id": "vNMzqXoGmEVG",
        "outputId": "286070c9-252c-4b7b-c3a5-33e0900b3e8a"
      },
      "outputs": [
        {
          "data": {
            "text/html": [
              "\n",
              "  <div id=\"df-6888054a-4891-4783-ba85-b3c5d364a8a5\">\n",
              "    <div class=\"colab-df-container\">\n",
              "      <div>\n",
              "<style scoped>\n",
              "    .dataframe tbody tr th:only-of-type {\n",
              "        vertical-align: middle;\n",
              "    }\n",
              "\n",
              "    .dataframe tbody tr th {\n",
              "        vertical-align: top;\n",
              "    }\n",
              "\n",
              "    .dataframe thead th {\n",
              "        text-align: right;\n",
              "    }\n",
              "</style>\n",
              "<table border=\"1\" class=\"dataframe\">\n",
              "  <thead>\n",
              "    <tr style=\"text-align: right;\">\n",
              "      <th></th>\n",
              "      <th>TransactionID</th>\n",
              "      <th>isFraud</th>\n",
              "      <th>TransactionDT</th>\n",
              "      <th>TransactionAmt</th>\n",
              "      <th>ProductCD</th>\n",
              "      <th>card1</th>\n",
              "      <th>card2</th>\n",
              "      <th>card3</th>\n",
              "      <th>card4</th>\n",
              "      <th>card5</th>\n",
              "      <th>...</th>\n",
              "      <th>id_31</th>\n",
              "      <th>id_32</th>\n",
              "      <th>id_33</th>\n",
              "      <th>id_34</th>\n",
              "      <th>id_35</th>\n",
              "      <th>id_36</th>\n",
              "      <th>id_37</th>\n",
              "      <th>id_38</th>\n",
              "      <th>DeviceType</th>\n",
              "      <th>DeviceInfo</th>\n",
              "    </tr>\n",
              "  </thead>\n",
              "  <tbody>\n",
              "    <tr>\n",
              "      <th>100000</th>\n",
              "      <td>3087000</td>\n",
              "      <td>0</td>\n",
              "      <td>2006416</td>\n",
              "      <td>34.105</td>\n",
              "      <td>C</td>\n",
              "      <td>12778</td>\n",
              "      <td>500.0</td>\n",
              "      <td>185.0</td>\n",
              "      <td>mastercard</td>\n",
              "      <td>224.0</td>\n",
              "      <td>...</td>\n",
              "      <td>chrome 63.0</td>\n",
              "      <td>NaN</td>\n",
              "      <td>NaN</td>\n",
              "      <td>NaN</td>\n",
              "      <td>F</td>\n",
              "      <td>F</td>\n",
              "      <td>T</td>\n",
              "      <td>T</td>\n",
              "      <td>desktop</td>\n",
              "      <td>NaN</td>\n",
              "    </tr>\n",
              "    <tr>\n",
              "      <th>100001</th>\n",
              "      <td>3087001</td>\n",
              "      <td>0</td>\n",
              "      <td>2006426</td>\n",
              "      <td>73.749</td>\n",
              "      <td>C</td>\n",
              "      <td>3154</td>\n",
              "      <td>408.0</td>\n",
              "      <td>185.0</td>\n",
              "      <td>mastercard</td>\n",
              "      <td>224.0</td>\n",
              "      <td>...</td>\n",
              "      <td>chrome 63.0</td>\n",
              "      <td>NaN</td>\n",
              "      <td>NaN</td>\n",
              "      <td>NaN</td>\n",
              "      <td>F</td>\n",
              "      <td>F</td>\n",
              "      <td>T</td>\n",
              "      <td>T</td>\n",
              "      <td>desktop</td>\n",
              "      <td>NaN</td>\n",
              "    </tr>\n",
              "    <tr>\n",
              "      <th>100002</th>\n",
              "      <td>3087002</td>\n",
              "      <td>0</td>\n",
              "      <td>2006462</td>\n",
              "      <td>107.950</td>\n",
              "      <td>W</td>\n",
              "      <td>2772</td>\n",
              "      <td>512.0</td>\n",
              "      <td>150.0</td>\n",
              "      <td>visa</td>\n",
              "      <td>226.0</td>\n",
              "      <td>...</td>\n",
              "      <td>NaN</td>\n",
              "      <td>NaN</td>\n",
              "      <td>NaN</td>\n",
              "      <td>NaN</td>\n",
              "      <td>NaN</td>\n",
              "      <td>NaN</td>\n",
              "      <td>NaN</td>\n",
              "      <td>NaN</td>\n",
              "      <td>NaN</td>\n",
              "      <td>NaN</td>\n",
              "    </tr>\n",
              "    <tr>\n",
              "      <th>100003</th>\n",
              "      <td>3087003</td>\n",
              "      <td>0</td>\n",
              "      <td>2006469</td>\n",
              "      <td>124.500</td>\n",
              "      <td>W</td>\n",
              "      <td>11473</td>\n",
              "      <td>528.0</td>\n",
              "      <td>150.0</td>\n",
              "      <td>visa</td>\n",
              "      <td>195.0</td>\n",
              "      <td>...</td>\n",
              "      <td>NaN</td>\n",
              "      <td>NaN</td>\n",
              "      <td>NaN</td>\n",
              "      <td>NaN</td>\n",
              "      <td>NaN</td>\n",
              "      <td>NaN</td>\n",
              "      <td>NaN</td>\n",
              "      <td>NaN</td>\n",
              "      <td>NaN</td>\n",
              "      <td>NaN</td>\n",
              "    </tr>\n",
              "    <tr>\n",
              "      <th>100004</th>\n",
              "      <td>3087004</td>\n",
              "      <td>0</td>\n",
              "      <td>2006499</td>\n",
              "      <td>100.000</td>\n",
              "      <td>W</td>\n",
              "      <td>14819</td>\n",
              "      <td>555.0</td>\n",
              "      <td>150.0</td>\n",
              "      <td>visa</td>\n",
              "      <td>226.0</td>\n",
              "      <td>...</td>\n",
              "      <td>NaN</td>\n",
              "      <td>NaN</td>\n",
              "      <td>NaN</td>\n",
              "      <td>NaN</td>\n",
              "      <td>NaN</td>\n",
              "      <td>NaN</td>\n",
              "      <td>NaN</td>\n",
              "      <td>NaN</td>\n",
              "      <td>NaN</td>\n",
              "      <td>NaN</td>\n",
              "    </tr>\n",
              "  </tbody>\n",
              "</table>\n",
              "<p>5 rows × 434 columns</p>\n",
              "</div>\n",
              "      <button class=\"colab-df-convert\" onclick=\"convertToInteractive('df-6888054a-4891-4783-ba85-b3c5d364a8a5')\"\n",
              "              title=\"Convert this dataframe to an interactive table.\"\n",
              "              style=\"display:none;\">\n",
              "        \n",
              "  <svg xmlns=\"http://www.w3.org/2000/svg\" height=\"24px\"viewBox=\"0 0 24 24\"\n",
              "       width=\"24px\">\n",
              "    <path d=\"M0 0h24v24H0V0z\" fill=\"none\"/>\n",
              "    <path d=\"M18.56 5.44l.94 2.06.94-2.06 2.06-.94-2.06-.94-.94-2.06-.94 2.06-2.06.94zm-11 1L8.5 8.5l.94-2.06 2.06-.94-2.06-.94L8.5 2.5l-.94 2.06-2.06.94zm10 10l.94 2.06.94-2.06 2.06-.94-2.06-.94-.94-2.06-.94 2.06-2.06.94z\"/><path d=\"M17.41 7.96l-1.37-1.37c-.4-.4-.92-.59-1.43-.59-.52 0-1.04.2-1.43.59L10.3 9.45l-7.72 7.72c-.78.78-.78 2.05 0 2.83L4 21.41c.39.39.9.59 1.41.59.51 0 1.02-.2 1.41-.59l7.78-7.78 2.81-2.81c.8-.78.8-2.07 0-2.86zM5.41 20L4 18.59l7.72-7.72 1.47 1.35L5.41 20z\"/>\n",
              "  </svg>\n",
              "      </button>\n",
              "      \n",
              "  <style>\n",
              "    .colab-df-container {\n",
              "      display:flex;\n",
              "      flex-wrap:wrap;\n",
              "      gap: 12px;\n",
              "    }\n",
              "\n",
              "    .colab-df-convert {\n",
              "      background-color: #E8F0FE;\n",
              "      border: none;\n",
              "      border-radius: 50%;\n",
              "      cursor: pointer;\n",
              "      display: none;\n",
              "      fill: #1967D2;\n",
              "      height: 32px;\n",
              "      padding: 0 0 0 0;\n",
              "      width: 32px;\n",
              "    }\n",
              "\n",
              "    .colab-df-convert:hover {\n",
              "      background-color: #E2EBFA;\n",
              "      box-shadow: 0px 1px 2px rgba(60, 64, 67, 0.3), 0px 1px 3px 1px rgba(60, 64, 67, 0.15);\n",
              "      fill: #174EA6;\n",
              "    }\n",
              "\n",
              "    [theme=dark] .colab-df-convert {\n",
              "      background-color: #3B4455;\n",
              "      fill: #D2E3FC;\n",
              "    }\n",
              "\n",
              "    [theme=dark] .colab-df-convert:hover {\n",
              "      background-color: #434B5C;\n",
              "      box-shadow: 0px 1px 3px 1px rgba(0, 0, 0, 0.15);\n",
              "      filter: drop-shadow(0px 1px 2px rgba(0, 0, 0, 0.3));\n",
              "      fill: #FFFFFF;\n",
              "    }\n",
              "  </style>\n",
              "\n",
              "      <script>\n",
              "        const buttonEl =\n",
              "          document.querySelector('#df-6888054a-4891-4783-ba85-b3c5d364a8a5 button.colab-df-convert');\n",
              "        buttonEl.style.display =\n",
              "          google.colab.kernel.accessAllowed ? 'block' : 'none';\n",
              "\n",
              "        async function convertToInteractive(key) {\n",
              "          const element = document.querySelector('#df-6888054a-4891-4783-ba85-b3c5d364a8a5');\n",
              "          const dataTable =\n",
              "            await google.colab.kernel.invokeFunction('convertToInteractive',\n",
              "                                                     [key], {});\n",
              "          if (!dataTable) return;\n",
              "\n",
              "          const docLinkHtml = 'Like what you see? Visit the ' +\n",
              "            '<a target=\"_blank\" href=https://colab.research.google.com/notebooks/data_table.ipynb>data table notebook</a>'\n",
              "            + ' to learn more about interactive tables.';\n",
              "          element.innerHTML = '';\n",
              "          dataTable['output_type'] = 'display_data';\n",
              "          await google.colab.output.renderOutput(dataTable, element);\n",
              "          const docLink = document.createElement('div');\n",
              "          docLink.innerHTML = docLinkHtml;\n",
              "          element.appendChild(docLink);\n",
              "        }\n",
              "      </script>\n",
              "    </div>\n",
              "  </div>\n",
              "  "
            ],
            "text/plain": [
              "        TransactionID  isFraud  TransactionDT  TransactionAmt ProductCD  \\\n",
              "100000        3087000        0        2006416          34.105         C   \n",
              "100001        3087001        0        2006426          73.749         C   \n",
              "100002        3087002        0        2006462         107.950         W   \n",
              "100003        3087003        0        2006469         124.500         W   \n",
              "100004        3087004        0        2006499         100.000         W   \n",
              "\n",
              "        card1  card2  card3       card4  card5  ...        id_31  id_32  \\\n",
              "100000  12778  500.0  185.0  mastercard  224.0  ...  chrome 63.0    NaN   \n",
              "100001   3154  408.0  185.0  mastercard  224.0  ...  chrome 63.0    NaN   \n",
              "100002   2772  512.0  150.0        visa  226.0  ...          NaN    NaN   \n",
              "100003  11473  528.0  150.0        visa  195.0  ...          NaN    NaN   \n",
              "100004  14819  555.0  150.0        visa  226.0  ...          NaN    NaN   \n",
              "\n",
              "        id_33  id_34  id_35 id_36 id_37  id_38  DeviceType  DeviceInfo  \n",
              "100000    NaN    NaN      F     F     T      T     desktop         NaN  \n",
              "100001    NaN    NaN      F     F     T      T     desktop         NaN  \n",
              "100002    NaN    NaN    NaN   NaN   NaN    NaN         NaN         NaN  \n",
              "100003    NaN    NaN    NaN   NaN   NaN    NaN         NaN         NaN  \n",
              "100004    NaN    NaN    NaN   NaN   NaN    NaN         NaN         NaN  \n",
              "\n",
              "[5 rows x 434 columns]"
            ]
          },
          "execution_count": 6,
          "metadata": {},
          "output_type": "execute_result"
        }
      ],
      "source": [
        "train.head()"
      ]
    },
    {
      "cell_type": "markdown",
      "metadata": {
        "id": "psxqCshD6z9-"
      },
      "source": [
        "reduce memory usage"
      ]
    },
    {
      "cell_type": "code",
      "execution_count": null,
      "metadata": {
        "colab": {
          "base_uri": "https://localhost:8080/"
        },
        "id": "rgTmPJkXLdP4",
        "outputId": "8f607b29-7642-476b-ec89-93d53e00cca1"
      },
      "outputs": [
        {
          "name": "stdout",
          "output_type": "stream",
          "text": [
            "Initial memory usage of dataframe is 217.69 MB/0.21 GB\n",
            "Memory usage after optimization is: 42.01 MB/0.04 GB\n",
            "Decreased by 80.7%\n"
          ]
        }
      ],
      "source": [
        "def reduce_mem_usage(df):\n",
        "\n",
        "    start_mem = df.memory_usage(index=True, deep=True).sum() / 1024**2\n",
        "    start_mem_GB = df.memory_usage(index=True, deep=True).sum() / 1024**3\n",
        "    print(f'Initial memory usage of dataframe is {start_mem:.2f} MB/{start_mem_GB:.2f} GB')\n",
        "    \n",
        "    for col in df.columns:\n",
        "        col_type = df[col].dtype\n",
        "        \n",
        "        if col_type != object:\n",
        "            c_min = df[col].min()\n",
        "            c_max = df[col].max()\n",
        "            if str(col_type)[:3] == 'int':\n",
        "                if c_min > np.iinfo(np.int8).min and c_max < np.iinfo(np.int8).max:\n",
        "                    df[col] = df[col].astype(np.int8)\n",
        "                elif c_min > np.iinfo(np.int16).min and c_max < np.iinfo(np.int16).max:\n",
        "                    df[col] = df[col].astype(np.int16)\n",
        "                elif c_min > np.iinfo(np.int32).min and c_max < np.iinfo(np.int32).max:\n",
        "                    df[col] = df[col].astype(np.int32)\n",
        "                elif c_min > np.iinfo(np.int64).min and c_max < np.iinfo(np.int64).max:\n",
        "                    df[col] = df[col].astype(np.int64)  \n",
        "            else:\n",
        "                if c_min > np.finfo(np.float16).min and c_max < np.finfo(np.float16).max:\n",
        "                    df[col] = df[col].astype(np.float16)\n",
        "                elif c_min > np.finfo(np.float32).min and c_max < np.finfo(np.float32).max:\n",
        "                    df[col] = df[col].astype(np.float32)\n",
        "                else:\n",
        "                    df[col] = df[col].astype(np.float64)\n",
        "        else:\n",
        "            df[col] = df[col].astype('category')\n",
        "\n",
        "    end_mem = df.memory_usage(index=True, deep=True).sum() / 1024**2\n",
        "    end_mem_GB = df.memory_usage(index=True, deep=True).sum() / 1024**3\n",
        "    reduction = 100 * (start_mem - end_mem) / start_mem\n",
        "    print(f'Memory usage after optimization is: {end_mem:.2f} MB/{end_mem_GB:.2f} GB')\n",
        "    print(f'Decreased by {reduction:.1f}%')\n",
        "    \n",
        "    return df\n",
        "\n",
        "train = reduce_mem_usage(train)"
      ]
    },
    {
      "cell_type": "markdown",
      "metadata": {
        "id": "29KDquOS7I9T"
      },
      "source": [
        "a lot of missing data"
      ]
    },
    {
      "cell_type": "code",
      "execution_count": null,
      "metadata": {
        "colab": {
          "base_uri": "https://localhost:8080/",
          "height": 240
        },
        "id": "1_x158qH7ASG",
        "outputId": "574a21dc-24a9-43ba-ff11-7bc4a5df56ad"
      },
      "outputs": [
        {
          "data": {
            "text/html": [
              "\n",
              "  <div id=\"df-6ffdb50f-86da-490c-895c-73f3251aea9d\">\n",
              "    <div class=\"colab-df-container\">\n",
              "      <div>\n",
              "<style scoped>\n",
              "    .dataframe tbody tr th:only-of-type {\n",
              "        vertical-align: middle;\n",
              "    }\n",
              "\n",
              "    .dataframe tbody tr th {\n",
              "        vertical-align: top;\n",
              "    }\n",
              "\n",
              "    .dataframe thead th {\n",
              "        text-align: right;\n",
              "    }\n",
              "</style>\n",
              "<table border=\"1\" class=\"dataframe\">\n",
              "  <thead>\n",
              "    <tr style=\"text-align: right;\">\n",
              "      <th></th>\n",
              "      <th></th>\n",
              "      <th>TransactionID</th>\n",
              "      <th>isFraud</th>\n",
              "      <th>TransactionDT</th>\n",
              "      <th>TransactionAmt</th>\n",
              "      <th>ProductCD</th>\n",
              "      <th>card1</th>\n",
              "      <th>card2</th>\n",
              "      <th>card3</th>\n",
              "      <th>card4</th>\n",
              "      <th>card5</th>\n",
              "      <th>...</th>\n",
              "      <th>id_31</th>\n",
              "      <th>id_32</th>\n",
              "      <th>id_33</th>\n",
              "      <th>id_34</th>\n",
              "      <th>id_35</th>\n",
              "      <th>id_36</th>\n",
              "      <th>id_37</th>\n",
              "      <th>id_38</th>\n",
              "      <th>DeviceType</th>\n",
              "      <th>DeviceInfo</th>\n",
              "    </tr>\n",
              "  </thead>\n",
              "  <tbody>\n",
              "    <tr>\n",
              "      <th>Total Missing Values</th>\n",
              "      <th>0</th>\n",
              "      <td>0.0</td>\n",
              "      <td>0.0</td>\n",
              "      <td>0.0</td>\n",
              "      <td>0.0</td>\n",
              "      <td>0.0</td>\n",
              "      <td>0.0</td>\n",
              "      <td>680.000000</td>\n",
              "      <td>0.0</td>\n",
              "      <td>1.000</td>\n",
              "      <td>266.000000</td>\n",
              "      <td>...</td>\n",
              "      <td>30459.000000</td>\n",
              "      <td>36899.000000</td>\n",
              "      <td>37739.00000</td>\n",
              "      <td>36897.000000</td>\n",
              "      <td>30432.000000</td>\n",
              "      <td>30432.000000</td>\n",
              "      <td>30432.000000</td>\n",
              "      <td>30432.000000</td>\n",
              "      <td>30436.000000</td>\n",
              "      <td>32781.000000</td>\n",
              "    </tr>\n",
              "    <tr>\n",
              "      <th>Percent</th>\n",
              "      <th>0</th>\n",
              "      <td>0.0</td>\n",
              "      <td>0.0</td>\n",
              "      <td>0.0</td>\n",
              "      <td>0.0</td>\n",
              "      <td>0.0</td>\n",
              "      <td>0.0</td>\n",
              "      <td>1.359973</td>\n",
              "      <td>0.0</td>\n",
              "      <td>0.002</td>\n",
              "      <td>0.531989</td>\n",
              "      <td>...</td>\n",
              "      <td>60.916782</td>\n",
              "      <td>73.796524</td>\n",
              "      <td>75.47649</td>\n",
              "      <td>73.792524</td>\n",
              "      <td>60.862783</td>\n",
              "      <td>60.862783</td>\n",
              "      <td>60.862783</td>\n",
              "      <td>60.862783</td>\n",
              "      <td>60.870783</td>\n",
              "      <td>65.560689</td>\n",
              "    </tr>\n",
              "  </tbody>\n",
              "</table>\n",
              "<p>2 rows × 434 columns</p>\n",
              "</div>\n",
              "      <button class=\"colab-df-convert\" onclick=\"convertToInteractive('df-6ffdb50f-86da-490c-895c-73f3251aea9d')\"\n",
              "              title=\"Convert this dataframe to an interactive table.\"\n",
              "              style=\"display:none;\">\n",
              "        \n",
              "  <svg xmlns=\"http://www.w3.org/2000/svg\" height=\"24px\"viewBox=\"0 0 24 24\"\n",
              "       width=\"24px\">\n",
              "    <path d=\"M0 0h24v24H0V0z\" fill=\"none\"/>\n",
              "    <path d=\"M18.56 5.44l.94 2.06.94-2.06 2.06-.94-2.06-.94-.94-2.06-.94 2.06-2.06.94zm-11 1L8.5 8.5l.94-2.06 2.06-.94-2.06-.94L8.5 2.5l-.94 2.06-2.06.94zm10 10l.94 2.06.94-2.06 2.06-.94-2.06-.94-.94-2.06-.94 2.06-2.06.94z\"/><path d=\"M17.41 7.96l-1.37-1.37c-.4-.4-.92-.59-1.43-.59-.52 0-1.04.2-1.43.59L10.3 9.45l-7.72 7.72c-.78.78-.78 2.05 0 2.83L4 21.41c.39.39.9.59 1.41.59.51 0 1.02-.2 1.41-.59l7.78-7.78 2.81-2.81c.8-.78.8-2.07 0-2.86zM5.41 20L4 18.59l7.72-7.72 1.47 1.35L5.41 20z\"/>\n",
              "  </svg>\n",
              "      </button>\n",
              "      \n",
              "  <style>\n",
              "    .colab-df-container {\n",
              "      display:flex;\n",
              "      flex-wrap:wrap;\n",
              "      gap: 12px;\n",
              "    }\n",
              "\n",
              "    .colab-df-convert {\n",
              "      background-color: #E8F0FE;\n",
              "      border: none;\n",
              "      border-radius: 50%;\n",
              "      cursor: pointer;\n",
              "      display: none;\n",
              "      fill: #1967D2;\n",
              "      height: 32px;\n",
              "      padding: 0 0 0 0;\n",
              "      width: 32px;\n",
              "    }\n",
              "\n",
              "    .colab-df-convert:hover {\n",
              "      background-color: #E2EBFA;\n",
              "      box-shadow: 0px 1px 2px rgba(60, 64, 67, 0.3), 0px 1px 3px 1px rgba(60, 64, 67, 0.15);\n",
              "      fill: #174EA6;\n",
              "    }\n",
              "\n",
              "    [theme=dark] .colab-df-convert {\n",
              "      background-color: #3B4455;\n",
              "      fill: #D2E3FC;\n",
              "    }\n",
              "\n",
              "    [theme=dark] .colab-df-convert:hover {\n",
              "      background-color: #434B5C;\n",
              "      box-shadow: 0px 1px 3px 1px rgba(0, 0, 0, 0.15);\n",
              "      filter: drop-shadow(0px 1px 2px rgba(0, 0, 0, 0.3));\n",
              "      fill: #FFFFFF;\n",
              "    }\n",
              "  </style>\n",
              "\n",
              "      <script>\n",
              "        const buttonEl =\n",
              "          document.querySelector('#df-6ffdb50f-86da-490c-895c-73f3251aea9d button.colab-df-convert');\n",
              "        buttonEl.style.display =\n",
              "          google.colab.kernel.accessAllowed ? 'block' : 'none';\n",
              "\n",
              "        async function convertToInteractive(key) {\n",
              "          const element = document.querySelector('#df-6ffdb50f-86da-490c-895c-73f3251aea9d');\n",
              "          const dataTable =\n",
              "            await google.colab.kernel.invokeFunction('convertToInteractive',\n",
              "                                                     [key], {});\n",
              "          if (!dataTable) return;\n",
              "\n",
              "          const docLinkHtml = 'Like what you see? Visit the ' +\n",
              "            '<a target=\"_blank\" href=https://colab.research.google.com/notebooks/data_table.ipynb>data table notebook</a>'\n",
              "            + ' to learn more about interactive tables.';\n",
              "          element.innerHTML = '';\n",
              "          dataTable['output_type'] = 'display_data';\n",
              "          await google.colab.output.renderOutput(dataTable, element);\n",
              "          const docLink = document.createElement('div');\n",
              "          docLink.innerHTML = docLinkHtml;\n",
              "          element.appendChild(docLink);\n",
              "        }\n",
              "      </script>\n",
              "    </div>\n",
              "  </div>\n",
              "  "
            ],
            "text/plain": [
              "                        TransactionID  isFraud  TransactionDT  TransactionAmt  \\\n",
              "Total Missing Values 0            0.0      0.0            0.0             0.0   \n",
              "Percent              0            0.0      0.0            0.0             0.0   \n",
              "\n",
              "                        ProductCD  card1       card2  card3  card4  \\\n",
              "Total Missing Values 0        0.0    0.0  680.000000    0.0  1.000   \n",
              "Percent              0        0.0    0.0    1.359973    0.0  0.002   \n",
              "\n",
              "                             card5  ...         id_31         id_32  \\\n",
              "Total Missing Values 0  266.000000  ...  30459.000000  36899.000000   \n",
              "Percent              0    0.531989  ...     60.916782     73.796524   \n",
              "\n",
              "                              id_33         id_34         id_35         id_36  \\\n",
              "Total Missing Values 0  37739.00000  36897.000000  30432.000000  30432.000000   \n",
              "Percent              0     75.47649     73.792524     60.862783     60.862783   \n",
              "\n",
              "                               id_37         id_38    DeviceType    DeviceInfo  \n",
              "Total Missing Values 0  30432.000000  30432.000000  30436.000000  32781.000000  \n",
              "Percent              0     60.862783     60.862783     60.870783     65.560689  \n",
              "\n",
              "[2 rows x 434 columns]"
            ]
          },
          "execution_count": 8,
          "metadata": {},
          "output_type": "execute_result"
        }
      ],
      "source": [
        "total_mv= train.isnull().sum().to_frame()                        #round to whole number \n",
        "percent_mv = (train.isnull().sum()/train.isnull().count()*100)   # round to 2 dp\n",
        "\n",
        "pd.concat([total_mv, percent_mv], axis=1, keys=['Total Missing Values', 'Percent']).transpose()"
      ]
    },
    {
      "cell_type": "markdown",
      "metadata": {
        "id": "HEjaH74B7nI8"
      },
      "source": [
        "unbalanced data"
      ]
    },
    {
      "cell_type": "code",
      "execution_count": null,
      "metadata": {
        "colab": {
          "base_uri": "https://localhost:8080/",
          "height": 367
        },
        "id": "g1GKgCxY7SmX",
        "outputId": "a4dbc351-8994-43a6-a58c-c8b781eaba65"
      },
      "outputs": [
        {
          "name": "stdout",
          "output_type": "stream",
          "text": [
            "Target Column : isFraud\n"
          ]
        },
        {
          "name": "stderr",
          "output_type": "stream",
          "text": [
            "/usr/local/lib/python3.7/dist-packages/seaborn/_decorators.py:43: FutureWarning: Pass the following variable as a keyword arg: x. From version 0.12, the only valid positional argument will be `data`, and passing other arguments without an explicit keyword will result in an error or misinterpretation.\n",
            "  FutureWarning\n"
          ]
        },
        {
          "data": {
            "image/png": "[encoded data removed]",
            "text/plain": [
              "<Figure size 288x288 with 1 Axes>"
            ]
          },
          "metadata": {},
          "output_type": "display_data"
        }
      ],
      "source": [
        "target_count = train['isFraud'].value_counts()\n",
        "target_percent = train['isFraud'].value_counts()/len(train)\n",
        "\n",
        "print('Target Column : isFraud')\n",
        "pd.concat([ target_count, target_percent], axis=1, keys=['Count', 'Percent'])\n",
        "def plot_count(feature, title, df, size=1):\n",
        "    f, ax = plt.subplots(1,1, figsize=(4*size,4))\n",
        "    total = float(len(df))\n",
        "    g = sns.countplot(df[feature], order = df[feature].value_counts().index[:30], palette='Set3')\n",
        "    g.set_title(\"Number and percentage of {}\".format(title))\n",
        "    if(size > 2):\n",
        "        plt.xticks(rotation=90, size=8)\n",
        "    for p in ax.patches:\n",
        "        height = p.get_height()\n",
        "        ax.text(p.get_x()+p.get_width()/2.,\n",
        "                height + 3,\n",
        "                '{:1.1f}%'.format(100*height/total),\n",
        "                ha=\"center\") \n",
        "    plt.show() \n",
        "plot_count('isFraud',  'train: isFraud', df=train, size=1)"
      ]
    },
    {
      "cell_type": "markdown",
      "metadata": {
        "id": "ee3MjXKW75y1"
      },
      "source": [
        "Correlation Study (Numerical Features Only)"
      ]
    },
    {
      "cell_type": "code",
      "execution_count": null,
      "metadata": {
        "colab": {
          "base_uri": "https://localhost:8080/"
        },
        "id": "P9iof6K77pZg",
        "outputId": "ebde7bc0-ac31-4e86-f7cd-8f6cbf49e5e1"
      },
      "outputs": [
        {
          "name": "stdout",
          "output_type": "stream",
          "text": [
            "Categorical features : 31\n",
            "Numerical features :  401\n"
          ]
        }
      ],
      "source": [
        "cat_features = ['ProductCD','card4','card6', 'P_emaildomain', 'R_emaildomain',\n",
        "                'M1', 'M2', 'M3', 'M4', 'M5', 'M6', 'M7', 'M8', 'M9', 'DeviceType', 'DeviceInfo', 'id_12', 'id_15',\n",
        "                'id_16','id_23','id_27','id_28','id_29','id_30','id_31',\n",
        "                'id_33','id_34','id_35','id_36','id_37','id_38']\n",
        "\n",
        "num_features = [x for x in train.columns.values[2:] if x not in cat_features]  #slicing from 2 onwards ( first 2 columns are identifier and target)\n",
        "\n",
        "features = num_features + cat_features\n",
        "\n",
        "print('Categorical features :', len(cat_features))\n",
        "print('Numerical features : ',len(num_features))"
      ]
    },
    {
      "cell_type": "markdown",
      "metadata": {
        "id": "m3f7rlJPxNqz"
      },
      "source": [
        "encoding categorical features"
      ]
    },
    {
      "cell_type": "code",
      "execution_count": null,
      "metadata": {
        "colab": {
          "base_uri": "https://localhost:8080/"
        },
        "id": "8m0elW9nBdvA",
        "outputId": "6b0e27b9-44b8-45fb-98c6-957e1c1ebeb4"
      },
      "outputs": [
        {
          "data": {
            "text/plain": [
              "(50001, 1847)"
            ]
          },
          "execution_count": 9,
          "metadata": {},
          "output_type": "execute_result"
        }
      ],
      "source": [
        "from sklearn.preprocessing import StandardScaler, OneHotEncoder\n",
        "from sklearn.compose import ColumnTransformer\n",
        "y=train['isFraud']\n",
        "\n",
        "scaler = StandardScaler()\n",
        "\n",
        "ohe = OneHotEncoder(handle_unknown='ignore')\n",
        "\n",
        "\n",
        "column_trans = ColumnTransformer(\n",
        "    [('ohe', ohe, cat_features)], remainder='passthrough', n_jobs=-1)\n",
        "  \n",
        "\n",
        "\n",
        "t = pd.DataFrame(column_trans.fit_transform(train,y))\n",
        "train.head()\n",
        "train=train.join(t)\n",
        "train.shape\n",
        "\n",
        "\n"
      ]
    },
    {
      "cell_type": "code",
      "execution_count": null,
      "metadata": {
        "colab": {
          "base_uri": "https://localhost:8080/",
          "height": 235
        },
        "id": "pdt-2f6pmTkC",
        "outputId": "77d779bc-b8a7-49ff-dc00-cb864ae8c505"
      },
      "outputs": [
        {
          "data": {
            "text/html": [
              "\n",
              "  <div id=\"df-de03859f-4620-4f01-9c17-0bcbd950edca\">\n",
              "    <div class=\"colab-df-container\">\n",
              "      <div>\n",
              "<style scoped>\n",
              "    .dataframe tbody tr th:only-of-type {\n",
              "        vertical-align: middle;\n",
              "    }\n",
              "\n",
              "    .dataframe tbody tr th {\n",
              "        vertical-align: top;\n",
              "    }\n",
              "\n",
              "    .dataframe thead th {\n",
              "        text-align: right;\n",
              "    }\n",
              "</style>\n",
              "<table border=\"1\" class=\"dataframe\">\n",
              "  <thead>\n",
              "    <tr style=\"text-align: right;\">\n",
              "      <th></th>\n",
              "      <th>TransactionID</th>\n",
              "      <th>isFraud</th>\n",
              "      <th>TransactionDT</th>\n",
              "      <th>TransactionAmt</th>\n",
              "      <th>ProductCD</th>\n",
              "      <th>card1</th>\n",
              "      <th>card2</th>\n",
              "      <th>card3</th>\n",
              "      <th>card4</th>\n",
              "      <th>card5</th>\n",
              "      <th>...</th>\n",
              "      <th>1403</th>\n",
              "      <th>1404</th>\n",
              "      <th>1405</th>\n",
              "      <th>1406</th>\n",
              "      <th>1407</th>\n",
              "      <th>1408</th>\n",
              "      <th>1409</th>\n",
              "      <th>1410</th>\n",
              "      <th>1411</th>\n",
              "      <th>1412</th>\n",
              "    </tr>\n",
              "  </thead>\n",
              "  <tbody>\n",
              "    <tr>\n",
              "      <th>450000</th>\n",
              "      <td>3437000</td>\n",
              "      <td>1</td>\n",
              "      <td>11476547</td>\n",
              "      <td>28.28125</td>\n",
              "      <td>C</td>\n",
              "      <td>3213</td>\n",
              "      <td>459.0</td>\n",
              "      <td>185.0</td>\n",
              "      <td>visa</td>\n",
              "      <td>226.0</td>\n",
              "      <td>...</td>\n",
              "      <td>NaN</td>\n",
              "      <td>NaN</td>\n",
              "      <td>NaN</td>\n",
              "      <td>NaN</td>\n",
              "      <td>NaN</td>\n",
              "      <td>NaN</td>\n",
              "      <td>NaN</td>\n",
              "      <td>NaN</td>\n",
              "      <td>NaN</td>\n",
              "      <td>NaN</td>\n",
              "    </tr>\n",
              "    <tr>\n",
              "      <th>450001</th>\n",
              "      <td>3437001</td>\n",
              "      <td>0</td>\n",
              "      <td>11476568</td>\n",
              "      <td>378.00000</td>\n",
              "      <td>W</td>\n",
              "      <td>7676</td>\n",
              "      <td>512.0</td>\n",
              "      <td>150.0</td>\n",
              "      <td>visa</td>\n",
              "      <td>226.0</td>\n",
              "      <td>...</td>\n",
              "      <td>NaN</td>\n",
              "      <td>NaN</td>\n",
              "      <td>NaN</td>\n",
              "      <td>NaN</td>\n",
              "      <td>NaN</td>\n",
              "      <td>NaN</td>\n",
              "      <td>NaN</td>\n",
              "      <td>NaN</td>\n",
              "      <td>NaN</td>\n",
              "      <td>NaN</td>\n",
              "    </tr>\n",
              "    <tr>\n",
              "      <th>450002</th>\n",
              "      <td>3437002</td>\n",
              "      <td>0</td>\n",
              "      <td>11476575</td>\n",
              "      <td>250.00000</td>\n",
              "      <td>W</td>\n",
              "      <td>9936</td>\n",
              "      <td>555.0</td>\n",
              "      <td>150.0</td>\n",
              "      <td>visa</td>\n",
              "      <td>226.0</td>\n",
              "      <td>...</td>\n",
              "      <td>NaN</td>\n",
              "      <td>NaN</td>\n",
              "      <td>NaN</td>\n",
              "      <td>NaN</td>\n",
              "      <td>NaN</td>\n",
              "      <td>NaN</td>\n",
              "      <td>NaN</td>\n",
              "      <td>NaN</td>\n",
              "      <td>NaN</td>\n",
              "      <td>NaN</td>\n",
              "    </tr>\n",
              "    <tr>\n",
              "      <th>450003</th>\n",
              "      <td>3437003</td>\n",
              "      <td>0</td>\n",
              "      <td>11476592</td>\n",
              "      <td>200.00000</td>\n",
              "      <td>R</td>\n",
              "      <td>17333</td>\n",
              "      <td>555.0</td>\n",
              "      <td>150.0</td>\n",
              "      <td>visa</td>\n",
              "      <td>226.0</td>\n",
              "      <td>...</td>\n",
              "      <td>NaN</td>\n",
              "      <td>NaN</td>\n",
              "      <td>NaN</td>\n",
              "      <td>NaN</td>\n",
              "      <td>NaN</td>\n",
              "      <td>NaN</td>\n",
              "      <td>NaN</td>\n",
              "      <td>NaN</td>\n",
              "      <td>NaN</td>\n",
              "      <td>NaN</td>\n",
              "    </tr>\n",
              "    <tr>\n",
              "      <th>450004</th>\n",
              "      <td>3437004</td>\n",
              "      <td>0</td>\n",
              "      <td>11476627</td>\n",
              "      <td>378.50000</td>\n",
              "      <td>W</td>\n",
              "      <td>12652</td>\n",
              "      <td>555.0</td>\n",
              "      <td>150.0</td>\n",
              "      <td>visa</td>\n",
              "      <td>138.0</td>\n",
              "      <td>...</td>\n",
              "      <td>NaN</td>\n",
              "      <td>NaN</td>\n",
              "      <td>NaN</td>\n",
              "      <td>NaN</td>\n",
              "      <td>NaN</td>\n",
              "      <td>NaN</td>\n",
              "      <td>NaN</td>\n",
              "      <td>NaN</td>\n",
              "      <td>NaN</td>\n",
              "      <td>NaN</td>\n",
              "    </tr>\n",
              "  </tbody>\n",
              "</table>\n",
              "<p>5 rows × 1847 columns</p>\n",
              "</div>\n",
              "      <button class=\"colab-df-convert\" onclick=\"convertToInteractive('df-de03859f-4620-4f01-9c17-0bcbd950edca')\"\n",
              "              title=\"Convert this dataframe to an interactive table.\"\n",
              "              style=\"display:none;\">\n",
              "        \n",
              "  <svg xmlns=\"http://www.w3.org/2000/svg\" height=\"24px\"viewBox=\"0 0 24 24\"\n",
              "       width=\"24px\">\n",
              "    <path d=\"M0 0h24v24H0V0z\" fill=\"none\"/>\n",
              "    <path d=\"M18.56 5.44l.94 2.06.94-2.06 2.06-.94-2.06-.94-.94-2.06-.94 2.06-2.06.94zm-11 1L8.5 8.5l.94-2.06 2.06-.94-2.06-.94L8.5 2.5l-.94 2.06-2.06.94zm10 10l.94 2.06.94-2.06 2.06-.94-2.06-.94-.94-2.06-.94 2.06-2.06.94z\"/><path d=\"M17.41 7.96l-1.37-1.37c-.4-.4-.92-.59-1.43-.59-.52 0-1.04.2-1.43.59L10.3 9.45l-7.72 7.72c-.78.78-.78 2.05 0 2.83L4 21.41c.39.39.9.59 1.41.59.51 0 1.02-.2 1.41-.59l7.78-7.78 2.81-2.81c.8-.78.8-2.07 0-2.86zM5.41 20L4 18.59l7.72-7.72 1.47 1.35L5.41 20z\"/>\n",
              "  </svg>\n",
              "      </button>\n",
              "      \n",
              "  <style>\n",
              "    .colab-df-container {\n",
              "      display:flex;\n",
              "      flex-wrap:wrap;\n",
              "      gap: 12px;\n",
              "    }\n",
              "\n",
              "    .colab-df-convert {\n",
              "      background-color: #E8F0FE;\n",
              "      border: none;\n",
              "      border-radius: 50%;\n",
              "      cursor: pointer;\n",
              "      display: none;\n",
              "      fill: #1967D2;\n",
              "      height: 32px;\n",
              "      padding: 0 0 0 0;\n",
              "      width: 32px;\n",
              "    }\n",
              "\n",
              "    .colab-df-convert:hover {\n",
              "      background-color: #E2EBFA;\n",
              "      box-shadow: 0px 1px 2px rgba(60, 64, 67, 0.3), 0px 1px 3px 1px rgba(60, 64, 67, 0.15);\n",
              "      fill: #174EA6;\n",
              "    }\n",
              "\n",
              "    [theme=dark] .colab-df-convert {\n",
              "      background-color: #3B4455;\n",
              "      fill: #D2E3FC;\n",
              "    }\n",
              "\n",
              "    [theme=dark] .colab-df-convert:hover {\n",
              "      background-color: #434B5C;\n",
              "      box-shadow: 0px 1px 3px 1px rgba(0, 0, 0, 0.15);\n",
              "      filter: drop-shadow(0px 1px 2px rgba(0, 0, 0, 0.3));\n",
              "      fill: #FFFFFF;\n",
              "    }\n",
              "  </style>\n",
              "\n",
              "      <script>\n",
              "        const buttonEl =\n",
              "          document.querySelector('#df-de03859f-4620-4f01-9c17-0bcbd950edca button.colab-df-convert');\n",
              "        buttonEl.style.display =\n",
              "          google.colab.kernel.accessAllowed ? 'block' : 'none';\n",
              "\n",
              "        async function convertToInteractive(key) {\n",
              "          const element = document.querySelector('#df-de03859f-4620-4f01-9c17-0bcbd950edca');\n",
              "          const dataTable =\n",
              "            await google.colab.kernel.invokeFunction('convertToInteractive',\n",
              "                                                     [key], {});\n",
              "          if (!dataTable) return;\n",
              "\n",
              "          const docLinkHtml = 'Like what you see? Visit the ' +\n",
              "            '<a target=\"_blank\" href=https://colab.research.google.com/notebooks/data_table.ipynb>data table notebook</a>'\n",
              "            + ' to learn more about interactive tables.';\n",
              "          element.innerHTML = '';\n",
              "          dataTable['output_type'] = 'display_data';\n",
              "          await google.colab.output.renderOutput(dataTable, element);\n",
              "          const docLink = document.createElement('div');\n",
              "          docLink.innerHTML = docLinkHtml;\n",
              "          element.appendChild(docLink);\n",
              "        }\n",
              "      </script>\n",
              "    </div>\n",
              "  </div>\n",
              "  "
            ],
            "text/plain": [
              "        TransactionID  isFraud  TransactionDT  TransactionAmt ProductCD  \\\n",
              "450000        3437000        1       11476547        28.28125         C   \n",
              "450001        3437001        0       11476568       378.00000         W   \n",
              "450002        3437002        0       11476575       250.00000         W   \n",
              "450003        3437003        0       11476592       200.00000         R   \n",
              "450004        3437004        0       11476627       378.50000         W   \n",
              "\n",
              "        card1  card2  card3 card4  card5  ... 1403  1404  1405  1406  1407  \\\n",
              "450000   3213  459.0  185.0  visa  226.0  ...  NaN   NaN   NaN   NaN   NaN   \n",
              "450001   7676  512.0  150.0  visa  226.0  ...  NaN   NaN   NaN   NaN   NaN   \n",
              "450002   9936  555.0  150.0  visa  226.0  ...  NaN   NaN   NaN   NaN   NaN   \n",
              "450003  17333  555.0  150.0  visa  226.0  ...  NaN   NaN   NaN   NaN   NaN   \n",
              "450004  12652  555.0  150.0  visa  138.0  ...  NaN   NaN   NaN   NaN   NaN   \n",
              "\n",
              "       1408 1409  1410  1411  1412  \n",
              "450000  NaN  NaN   NaN   NaN   NaN  \n",
              "450001  NaN  NaN   NaN   NaN   NaN  \n",
              "450002  NaN  NaN   NaN   NaN   NaN  \n",
              "450003  NaN  NaN   NaN   NaN   NaN  \n",
              "450004  NaN  NaN   NaN   NaN   NaN  \n",
              "\n",
              "[5 rows x 1847 columns]"
            ]
          },
          "execution_count": 10,
          "metadata": {},
          "output_type": "execute_result"
        }
      ],
      "source": [
        "train.head()"
      ]
    },
    {
      "cell_type": "markdown",
      "metadata": {
        "id": "YJSkDV5uxX0J"
      },
      "source": [
        "scaling numerical features"
      ]
    },
    {
      "cell_type": "code",
      "execution_count": null,
      "metadata": {
        "colab": {
          "base_uri": "https://localhost:8080/"
        },
        "id": "g6oUChe6Y0Ag",
        "outputId": "c1e9131c-54b9-4092-a17f-0b1dd6623817"
      },
      "outputs": [
        {
          "name": "stdout",
          "output_type": "stream",
          "text": [
            "        TransactionID  isFraud  TransactionDT  TransactionAmt ProductCD  \\\n",
            "450000        3437000        1      -1.728390       -0.449050         C   \n",
            "450001        3437001        0      -1.728346        1.017502         W   \n",
            "450002        3437002        0      -1.728331        0.480732         W   \n",
            "450003        3437003        0      -1.728295        0.271056         R   \n",
            "450004        3437004        0      -1.728221        1.019599         W   \n",
            "\n",
            "           card1     card2     card3 card4     card5  ... 1403  1404  1405  \\\n",
            "450000 -1.364168  0.621567  3.067338  visa  0.641363  ...  NaN   NaN   NaN   \n",
            "450001 -0.460377  0.959876 -0.264389  visa  0.641363  ...  NaN   NaN   NaN   \n",
            "450002 -0.002711  1.234353 -0.264389  visa  0.641363  ...  NaN   NaN   NaN   \n",
            "450003  1.495236  1.234353 -0.264389  visa  0.641363  ...  NaN   NaN   NaN   \n",
            "450004  0.547299  1.234353 -0.264389  visa -1.459448  ...  NaN   NaN   NaN   \n",
            "\n",
            "        1406  1407 1408 1409  1410  1411  1412  \n",
            "450000   NaN   NaN  NaN  NaN   NaN   NaN   NaN  \n",
            "450001   NaN   NaN  NaN  NaN   NaN   NaN   NaN  \n",
            "450002   NaN   NaN  NaN  NaN   NaN   NaN   NaN  \n",
            "450003   NaN   NaN  NaN  NaN   NaN   NaN   NaN  \n",
            "450004   NaN   NaN  NaN  NaN   NaN   NaN   NaN  \n",
            "\n",
            "[5 rows x 1847 columns]\n"
          ]
        }
      ],
      "source": [
        "\n",
        "scaler = StandardScaler()\n",
        "train[num_features] = scaler.fit_transform(train[num_features])\n",
        "print (train.head())"
      ]
    },
    {
      "cell_type": "code",
      "execution_count": null,
      "metadata": {
        "colab": {
          "base_uri": "https://localhost:8080/"
        },
        "id": "tYERGawLRKMO",
        "outputId": "84e04430-de7c-44ef-ad0c-d912d4023e1d"
      },
      "outputs": [
        {
          "data": {
            "text/plain": [
              "<function gc.collect>"
            ]
          },
          "execution_count": 12,
          "metadata": {},
          "output_type": "execute_result"
        }
      ],
      "source": [
        "del scaler, ohe, column_trans, t\n",
        "gc.collect"
      ]
    },
    {
      "cell_type": "code",
      "execution_count": null,
      "metadata": {
        "colab": {
          "base_uri": "https://localhost:8080/",
          "height": 235
        },
        "id": "uVjoFoVtFMW4",
        "outputId": "36cabab1-eb40-4182-ddea-92511b3035a4"
      },
      "outputs": [
        {
          "data": {
            "text/html": [
              "\n",
              "  <div id=\"df-7427bd09-4ebb-4a7c-9196-30a69cd53ddd\">\n",
              "    <div class=\"colab-df-container\">\n",
              "      <div>\n",
              "<style scoped>\n",
              "    .dataframe tbody tr th:only-of-type {\n",
              "        vertical-align: middle;\n",
              "    }\n",
              "\n",
              "    .dataframe tbody tr th {\n",
              "        vertical-align: top;\n",
              "    }\n",
              "\n",
              "    .dataframe thead th {\n",
              "        text-align: right;\n",
              "    }\n",
              "</style>\n",
              "<table border=\"1\" class=\"dataframe\">\n",
              "  <thead>\n",
              "    <tr style=\"text-align: right;\">\n",
              "      <th></th>\n",
              "      <th>TransactionID</th>\n",
              "      <th>isFraud</th>\n",
              "      <th>TransactionDT</th>\n",
              "      <th>TransactionAmt</th>\n",
              "      <th>ProductCD</th>\n",
              "      <th>card1</th>\n",
              "      <th>card2</th>\n",
              "      <th>card3</th>\n",
              "      <th>card4</th>\n",
              "      <th>card5</th>\n",
              "      <th>...</th>\n",
              "      <th>id_32</th>\n",
              "      <th>id_33</th>\n",
              "      <th>id_34</th>\n",
              "      <th>id_35</th>\n",
              "      <th>id_36</th>\n",
              "      <th>id_37</th>\n",
              "      <th>id_38</th>\n",
              "      <th>DeviceType</th>\n",
              "      <th>DeviceInfo</th>\n",
              "      <th>0</th>\n",
              "    </tr>\n",
              "  </thead>\n",
              "  <tbody>\n",
              "    <tr>\n",
              "      <th>100000</th>\n",
              "      <td>3087000</td>\n",
              "      <td>0</td>\n",
              "      <td>-1.505604</td>\n",
              "      <td>-0.469470</td>\n",
              "      <td>C</td>\n",
              "      <td>0.600946</td>\n",
              "      <td>0.831693</td>\n",
              "      <td>2.490853</td>\n",
              "      <td>mastercard</td>\n",
              "      <td>0.580664</td>\n",
              "      <td>...</td>\n",
              "      <td>NaN</td>\n",
              "      <td>NaN</td>\n",
              "      <td>NaN</td>\n",
              "      <td>F</td>\n",
              "      <td>F</td>\n",
              "      <td>T</td>\n",
              "      <td>T</td>\n",
              "      <td>desktop</td>\n",
              "      <td>NaN</td>\n",
              "      <td>NaN</td>\n",
              "    </tr>\n",
              "    <tr>\n",
              "      <th>100001</th>\n",
              "      <td>3087001</td>\n",
              "      <td>0</td>\n",
              "      <td>-1.505573</td>\n",
              "      <td>-0.259695</td>\n",
              "      <td>C</td>\n",
              "      <td>-1.370135</td>\n",
              "      <td>0.252857</td>\n",
              "      <td>2.490853</td>\n",
              "      <td>mastercard</td>\n",
              "      <td>0.580664</td>\n",
              "      <td>...</td>\n",
              "      <td>NaN</td>\n",
              "      <td>NaN</td>\n",
              "      <td>NaN</td>\n",
              "      <td>F</td>\n",
              "      <td>F</td>\n",
              "      <td>T</td>\n",
              "      <td>T</td>\n",
              "      <td>desktop</td>\n",
              "      <td>NaN</td>\n",
              "      <td>NaN</td>\n",
              "    </tr>\n",
              "    <tr>\n",
              "      <th>100002</th>\n",
              "      <td>3087002</td>\n",
              "      <td>0</td>\n",
              "      <td>-1.505463</td>\n",
              "      <td>-0.078848</td>\n",
              "      <td>W</td>\n",
              "      <td>-1.448372</td>\n",
              "      <td>0.907193</td>\n",
              "      <td>-0.330189</td>\n",
              "      <td>visa</td>\n",
              "      <td>0.630014</td>\n",
              "      <td>...</td>\n",
              "      <td>NaN</td>\n",
              "      <td>NaN</td>\n",
              "      <td>NaN</td>\n",
              "      <td>NaN</td>\n",
              "      <td>NaN</td>\n",
              "      <td>NaN</td>\n",
              "      <td>NaN</td>\n",
              "      <td>NaN</td>\n",
              "      <td>NaN</td>\n",
              "      <td>NaN</td>\n",
              "    </tr>\n",
              "    <tr>\n",
              "      <th>100003</th>\n",
              "      <td>3087003</td>\n",
              "      <td>0</td>\n",
              "      <td>-1.505442</td>\n",
              "      <td>0.008764</td>\n",
              "      <td>W</td>\n",
              "      <td>0.333671</td>\n",
              "      <td>1.007860</td>\n",
              "      <td>-0.330189</td>\n",
              "      <td>visa</td>\n",
              "      <td>-0.134913</td>\n",
              "      <td>...</td>\n",
              "      <td>NaN</td>\n",
              "      <td>NaN</td>\n",
              "      <td>NaN</td>\n",
              "      <td>NaN</td>\n",
              "      <td>NaN</td>\n",
              "      <td>NaN</td>\n",
              "      <td>NaN</td>\n",
              "      <td>NaN</td>\n",
              "      <td>NaN</td>\n",
              "      <td>NaN</td>\n",
              "    </tr>\n",
              "    <tr>\n",
              "      <th>100004</th>\n",
              "      <td>3087004</td>\n",
              "      <td>0</td>\n",
              "      <td>-1.505350</td>\n",
              "      <td>-0.120836</td>\n",
              "      <td>W</td>\n",
              "      <td>1.018961</td>\n",
              "      <td>1.177736</td>\n",
              "      <td>-0.330189</td>\n",
              "      <td>visa</td>\n",
              "      <td>0.630014</td>\n",
              "      <td>...</td>\n",
              "      <td>NaN</td>\n",
              "      <td>NaN</td>\n",
              "      <td>NaN</td>\n",
              "      <td>NaN</td>\n",
              "      <td>NaN</td>\n",
              "      <td>NaN</td>\n",
              "      <td>NaN</td>\n",
              "      <td>NaN</td>\n",
              "      <td>NaN</td>\n",
              "      <td>NaN</td>\n",
              "    </tr>\n",
              "  </tbody>\n",
              "</table>\n",
              "<p>5 rows × 435 columns</p>\n",
              "</div>\n",
              "      <button class=\"colab-df-convert\" onclick=\"convertToInteractive('df-7427bd09-4ebb-4a7c-9196-30a69cd53ddd')\"\n",
              "              title=\"Convert this dataframe to an interactive table.\"\n",
              "              style=\"display:none;\">\n",
              "        \n",
              "  <svg xmlns=\"http://www.w3.org/2000/svg\" height=\"24px\"viewBox=\"0 0 24 24\"\n",
              "       width=\"24px\">\n",
              "    <path d=\"M0 0h24v24H0V0z\" fill=\"none\"/>\n",
              "    <path d=\"M18.56 5.44l.94 2.06.94-2.06 2.06-.94-2.06-.94-.94-2.06-.94 2.06-2.06.94zm-11 1L8.5 8.5l.94-2.06 2.06-.94-2.06-.94L8.5 2.5l-.94 2.06-2.06.94zm10 10l.94 2.06.94-2.06 2.06-.94-2.06-.94-.94-2.06-.94 2.06-2.06.94z\"/><path d=\"M17.41 7.96l-1.37-1.37c-.4-.4-.92-.59-1.43-.59-.52 0-1.04.2-1.43.59L10.3 9.45l-7.72 7.72c-.78.78-.78 2.05 0 2.83L4 21.41c.39.39.9.59 1.41.59.51 0 1.02-.2 1.41-.59l7.78-7.78 2.81-2.81c.8-.78.8-2.07 0-2.86zM5.41 20L4 18.59l7.72-7.72 1.47 1.35L5.41 20z\"/>\n",
              "  </svg>\n",
              "      </button>\n",
              "      \n",
              "  <style>\n",
              "    .colab-df-container {\n",
              "      display:flex;\n",
              "      flex-wrap:wrap;\n",
              "      gap: 12px;\n",
              "    }\n",
              "\n",
              "    .colab-df-convert {\n",
              "      background-color: #E8F0FE;\n",
              "      border: none;\n",
              "      border-radius: 50%;\n",
              "      cursor: pointer;\n",
              "      display: none;\n",
              "      fill: #1967D2;\n",
              "      height: 32px;\n",
              "      padding: 0 0 0 0;\n",
              "      width: 32px;\n",
              "    }\n",
              "\n",
              "    .colab-df-convert:hover {\n",
              "      background-color: #E2EBFA;\n",
              "      box-shadow: 0px 1px 2px rgba(60, 64, 67, 0.3), 0px 1px 3px 1px rgba(60, 64, 67, 0.15);\n",
              "      fill: #174EA6;\n",
              "    }\n",
              "\n",
              "    [theme=dark] .colab-df-convert {\n",
              "      background-color: #3B4455;\n",
              "      fill: #D2E3FC;\n",
              "    }\n",
              "\n",
              "    [theme=dark] .colab-df-convert:hover {\n",
              "      background-color: #434B5C;\n",
              "      box-shadow: 0px 1px 3px 1px rgba(0, 0, 0, 0.15);\n",
              "      filter: drop-shadow(0px 1px 2px rgba(0, 0, 0, 0.3));\n",
              "      fill: #FFFFFF;\n",
              "    }\n",
              "  </style>\n",
              "\n",
              "      <script>\n",
              "        const buttonEl =\n",
              "          document.querySelector('#df-7427bd09-4ebb-4a7c-9196-30a69cd53ddd button.colab-df-convert');\n",
              "        buttonEl.style.display =\n",
              "          google.colab.kernel.accessAllowed ? 'block' : 'none';\n",
              "\n",
              "        async function convertToInteractive(key) {\n",
              "          const element = document.querySelector('#df-7427bd09-4ebb-4a7c-9196-30a69cd53ddd');\n",
              "          const dataTable =\n",
              "            await google.colab.kernel.invokeFunction('convertToInteractive',\n",
              "                                                     [key], {});\n",
              "          if (!dataTable) return;\n",
              "\n",
              "          const docLinkHtml = 'Like what you see? Visit the ' +\n",
              "            '<a target=\"_blank\" href=https://colab.research.google.com/notebooks/data_table.ipynb>data table notebook</a>'\n",
              "            + ' to learn more about interactive tables.';\n",
              "          element.innerHTML = '';\n",
              "          dataTable['output_type'] = 'display_data';\n",
              "          await google.colab.output.renderOutput(dataTable, element);\n",
              "          const docLink = document.createElement('div');\n",
              "          docLink.innerHTML = docLinkHtml;\n",
              "          element.appendChild(docLink);\n",
              "        }\n",
              "      </script>\n",
              "    </div>\n",
              "  </div>\n",
              "  "
            ],
            "text/plain": [
              "        TransactionID  isFraud  TransactionDT  TransactionAmt ProductCD  \\\n",
              "100000        3087000        0      -1.505604       -0.469470         C   \n",
              "100001        3087001        0      -1.505573       -0.259695         C   \n",
              "100002        3087002        0      -1.505463       -0.078848         W   \n",
              "100003        3087003        0      -1.505442        0.008764         W   \n",
              "100004        3087004        0      -1.505350       -0.120836         W   \n",
              "\n",
              "           card1     card2     card3       card4     card5  ... id_32  id_33  \\\n",
              "100000  0.600946  0.831693  2.490853  mastercard  0.580664  ...   NaN    NaN   \n",
              "100001 -1.370135  0.252857  2.490853  mastercard  0.580664  ...   NaN    NaN   \n",
              "100002 -1.448372  0.907193 -0.330189        visa  0.630014  ...   NaN    NaN   \n",
              "100003  0.333671  1.007860 -0.330189        visa -0.134913  ...   NaN    NaN   \n",
              "100004  1.018961  1.177736 -0.330189        visa  0.630014  ...   NaN    NaN   \n",
              "\n",
              "        id_34  id_35  id_36 id_37 id_38  DeviceType  DeviceInfo    0  \n",
              "100000    NaN      F      F     T     T     desktop         NaN  NaN  \n",
              "100001    NaN      F      F     T     T     desktop         NaN  NaN  \n",
              "100002    NaN    NaN    NaN   NaN   NaN         NaN         NaN  NaN  \n",
              "100003    NaN    NaN    NaN   NaN   NaN         NaN         NaN  NaN  \n",
              "100004    NaN    NaN    NaN   NaN   NaN         NaN         NaN  NaN  \n",
              "\n",
              "[5 rows x 435 columns]"
            ]
          },
          "execution_count": 15,
          "metadata": {},
          "output_type": "execute_result"
        }
      ],
      "source": [
        "train.head()"
      ]
    },
    {
      "cell_type": "markdown",
      "metadata": {
        "id": "epXwncT08FBE"
      },
      "source": [
        "dropping categorical features"
      ]
    },
    {
      "cell_type": "code",
      "execution_count": null,
      "metadata": {
        "colab": {
          "base_uri": "https://localhost:8080/"
        },
        "id": "H1LKfLFe8EJL",
        "outputId": "d69b0b2b-dc45-4865-a92f-9bf5e33685a1"
      },
      "outputs": [
        {
          "name": "stdout",
          "output_type": "stream",
          "text": [
            "(96580, 1816)\n"
          ]
        }
      ],
      "source": [
        "train.drop(cat_features, axis=1, inplace=True)\n",
        "\n",
        "print(train.shape)"
      ]
    },
    {
      "cell_type": "markdown",
      "metadata": {
        "id": "RgYwynjEyWlq"
      },
      "source": [
        "filling in missing values"
      ]
    },
    {
      "cell_type": "code",
      "execution_count": null,
      "metadata": {
        "colab": {
          "base_uri": "https://localhost:8080/"
        },
        "id": "VzPXQsgTLE2w",
        "outputId": "961dfed5-d222-4a0f-cd7d-0b11592d75d9"
      },
      "outputs": [
        {
          "name": "stdout",
          "output_type": "stream",
          "text": [
            "       TransactionID  isFraud  TransactionDT  TransactionAmt     card1  \\\n",
            "50000        3037000        0      -1.832023        1.612510 -0.353931   \n",
            "50001        3037001        0      -1.831953       -0.424593  1.522714   \n",
            "50002        3037002        0      -1.831846       -0.419560 -1.561698   \n",
            "50003        3037003        0      -1.831750       -0.042086  1.373380   \n",
            "50004        3037004        0      -1.831730        0.385719  0.155536   \n",
            "\n",
            "          card2     card3     card5     addr1     addr2  ...     id_18  \\\n",
            "50000 -0.371176 -0.311899  0.640092 -1.059720  0.025034  ...       NaN   \n",
            "50001 -1.262484 -0.311899  0.640092 -0.187999  0.025034  ...       NaN   \n",
            "50002  0.149800 -0.311899  0.881097  0.079461  0.025034  ...  0.722849   \n",
            "50003 -1.287592 -0.311899  0.640092  2.011116  0.025034  ...  0.722849   \n",
            "50004  1.304734 -0.311899  0.640092  0.079461  0.025034  ...       NaN   \n",
            "\n",
            "          id_19     id_20  id_21  id_22  id_24  id_25  id_26     id_32  \\\n",
            "50000       NaN       NaN    NaN    NaN    NaN    NaN    NaN       NaN   \n",
            "50001       NaN       NaN    NaN    NaN    NaN    NaN    NaN       NaN   \n",
            "50002  0.332186 -1.013105    NaN    NaN    NaN    NaN    NaN -0.627897   \n",
            "50003 -0.064258 -0.075334    NaN    NaN    NaN    NaN    NaN  1.577269   \n",
            "50004       NaN       NaN    NaN    NaN    NaN    NaN    NaN       NaN   \n",
            "\n",
            "                                                       0  \n",
            "50000    (0, 0)\\t1.0\\n  (0, 7)\\t1.0\\n  (0, 10)\\t1.0\\n...  \n",
            "50001                                                NaN  \n",
            "50002                                                NaN  \n",
            "50003                                                NaN  \n",
            "50004                                                NaN  \n",
            "\n",
            "[5 rows x 404 columns]\n"
          ]
        }
      ],
      "source": [
        "print(train.head())"
      ]
    },
    {
      "cell_type": "markdown",
      "metadata": {
        "id": "BLXLAjdSyjuy"
      },
      "source": [
        "data oversampling"
      ]
    },
    {
      "cell_type": "code",
      "execution_count": null,
      "metadata": {
        "colab": {
          "base_uri": "https://localhost:8080/",
          "height": 797
        },
        "id": "-fyz5BESNUUQ",
        "outputId": "0d7b5437-7815-468d-cc83-fa9de42b589b"
      },
      "outputs": [
        {
          "name": "stdout",
          "output_type": "stream",
          "text": [
            "        TransactionID  isFraud  TransactionDT  TransactionAmt ProductCD  \\\n",
            "450001        3437001        0      -1.728346        1.017502         W   \n",
            "450002        3437002        0      -1.728331        0.480732         W   \n",
            "450003        3437003        0      -1.728295        0.271056         R   \n",
            "450004        3437004        0      -1.728221        1.019599         W   \n",
            "450005        3437005        0      -1.728165       -0.169263         W   \n",
            "\n",
            "           card1     card2     card3 card4     card5  ... 1403  1404  1405  \\\n",
            "450001 -0.460377  0.959876 -0.264389  visa  0.641363  ...  NaN   NaN   NaN   \n",
            "450002 -0.002711  1.234353 -0.264389  visa  0.641363  ...  NaN   NaN   NaN   \n",
            "450003  1.495236  1.234353 -0.264389  visa  0.641363  ...  NaN   NaN   NaN   \n",
            "450004  0.547299  1.234353 -0.264389  visa -1.459448  ...  NaN   NaN   NaN   \n",
            "450005  0.532111 -0.597623 -0.264389  visa -0.791008  ...  NaN   NaN   NaN   \n",
            "\n",
            "        1406  1407 1408 1409  1410  1411  1412  \n",
            "450001   NaN   NaN  NaN  NaN   NaN   NaN   NaN  \n",
            "450002   NaN   NaN  NaN  NaN   NaN   NaN   NaN  \n",
            "450003   NaN   NaN  NaN  NaN   NaN   NaN   NaN  \n",
            "450004   NaN   NaN  NaN  NaN   NaN   NaN   NaN  \n",
            "450005   NaN   NaN  NaN  NaN   NaN   NaN   NaN  \n",
            "\n",
            "[5 rows x 1847 columns] 450001    0\n",
            "450002    0\n",
            "450003    0\n",
            "450004    0\n",
            "450005    0\n",
            "Name: isFraud, dtype: int8\n",
            "(96580, 1847) (96580,)\n"
          ]
        },
        {
          "data": {
            "image/png": "[encoded data removed]",
            "text/plain": [
              "<Figure size 432x288 with 1 Axes>"
            ]
          },
          "metadata": {},
          "output_type": "display_data"
        }
      ],
      "source": [
        "from sklearn.utils import resample\n",
        "y=train['isFraud']\n",
        "df_majority = train[y == 0]\n",
        "\n",
        "df_minority = train[y == 1]\n",
        "size_major = len(df_majority)\n",
        "\n",
        "y_majority = y[y == 0]\n",
        "y_minority = y[y == 1]\n",
        "\n",
        "# Downsample majority class\n",
        "df_minority_upsampled = resample(df_minority, \n",
        "                   replace=True,    # sample with replacement\n",
        "                   n_samples=size_major,    # to match majority class\n",
        "                   random_state=42)  # reproducible results\n",
        "\n",
        "train = pd.concat([df_majority, df_minority_upsampled])\n",
        "y_minority_upsampled = y_minority[df_minority_upsampled.index]\n",
        "y = pd.concat([y_majority, y_minority_upsampled])\n",
        "\n",
        "sns.countplot(x = y);\n",
        "print(train.head(),y.head())\n",
        "print(train.shape,y.shape)"
      ]
    },
    {
      "cell_type": "code",
      "execution_count": null,
      "metadata": {
        "colab": {
          "base_uri": "https://localhost:8080/"
        },
        "id": "AQHbNbszRlrb",
        "outputId": "594cf9c2-89b2-42ff-f0fd-e96d6643683c"
      },
      "outputs": [
        {
          "data": {
            "text/plain": [
              "<function gc.collect>"
            ]
          },
          "execution_count": 14,
          "metadata": {},
          "output_type": "execute_result"
        }
      ],
      "source": [
        "del df_majority, df_minority, size_major, y_majority, y_minority, df_minority_upsampled, y_minority_upsampled, \n",
        "gc.collect"
      ]
    },
    {
      "cell_type": "markdown",
      "metadata": {
        "id": "2Fh794RU8Mvg"
      },
      "source": [
        "filling in missing values"
      ]
    },
    {
      "cell_type": "code",
      "execution_count": null,
      "metadata": {
        "colab": {
          "base_uri": "https://localhost:8080/"
        },
        "id": "SIvK7nsL8LZg",
        "outputId": "b5e9eb5f-426d-4b2b-ac15-04b4d26aa05b"
      },
      "outputs": [
        {
          "name": "stderr",
          "output_type": "stream",
          "text": [
            "/usr/local/lib/python3.7/dist-packages/sklearn/utils/validation.py:1692: FutureWarning: Feature names only support names that are all strings. Got feature names with dtypes: ['int', 'str']. An error will be raised in 1.2.\n",
            "  FutureWarning,\n",
            "/usr/local/lib/python3.7/dist-packages/sklearn/utils/validation.py:1692: FutureWarning: Feature names only support names that are all strings. Got feature names with dtypes: ['int', 'str']. An error will be raised in 1.2.\n",
            "  FutureWarning,\n"
          ]
        },
        {
          "name": "stdout",
          "output_type": "stream",
          "text": [
            "(96580, 403)\n"
          ]
        },
        {
          "data": {
            "text/plain": [
              "(96580,)"
            ]
          },
          "execution_count": 17,
          "metadata": {},
          "output_type": "execute_result"
        }
      ],
      "source": [
        "imputer = SimpleImputer(strategy='median')\n",
        "imputer.fit(train)\n",
        "X_train = imputer.transform(train)\n",
        "print(X_train.shape)\n",
        "y.shape"
      ]
    },
    {
      "cell_type": "code",
      "execution_count": null,
      "metadata": {
        "id": "10AGpDX5JHCt"
      },
      "outputs": [],
      "source": [
        "import matplotlib.pyplot as plt\n",
        "from sklearn import model_selection\n",
        "from sklearn.linear_model import LogisticRegression\n",
        "from sklearn.tree import DecisionTreeClassifier\n",
        "from sklearn.neighbors import KNeighborsClassifier\n",
        "from sklearn.discriminant_analysis import LinearDiscriminantAnalysis\n",
        "from sklearn.naive_bayes import GaussianNB\n",
        "from sklearn.svm import SVC\n",
        "from sklearn.model_selection import train_test_split\n",
        "from sklearn import datasets\n",
        "import matplotlib.pyplot as plt\n",
        "from sklearn.ensemble import RandomForestClassifier\n",
        "from xgboost import XGBClassifier"
      ]
    },
    {
      "cell_type": "code",
      "execution_count": null,
      "metadata": {
        "id": "mVYWxKaLMlQT"
      },
      "outputs": [],
      "source": [
        "y=train['isFraud']\n",
        "train.drop(\"isFraud\", axis=1, inplace=True)\n",
        "train.drop(\"TransactionID\", axis=1, inplace=True)"
      ]
    },
    {
      "cell_type": "code",
      "execution_count": null,
      "metadata": {
        "id": "SNqpk_cM9jHi"
      },
      "outputs": [],
      "source": [
        "from sklearn.model_selection import train_test_split\n",
        "train_X, test_X, train_y, test_y = train_test_split(X_train, y,test_size=0.3, stratify=y)\n"
      ]
    },
    {
      "cell_type": "code",
      "execution_count": null,
      "metadata": {
        "id": "GuE_o09RGC7z"
      },
      "outputs": [],
      "source": [
        "# IGNNORE THIS CELL FOR BETTER RESULTS\n",
        "\n",
        "from imblearn.over_sampling import SMOTE\n",
        "os = SMOTE(random_state=42)\n",
        "os_data_X,os_data_y=os.fit_resample(train_X, train_y)\n"
      ]
    },
    {
      "cell_type": "code",
      "execution_count": null,
      "metadata": {
        "colab": {
          "base_uri": "https://localhost:8080/"
        },
        "id": "BDoS1zqh-uyD",
        "outputId": "fc2e2084-c5dd-4b86-f16c-b556a73f9535"
      },
      "outputs": [
        {
          "name": "stdout",
          "output_type": "stream",
          "text": [
            "classification report of k=  1\n",
            "              precision    recall  f1-score   support\n",
            "\n",
            "           0       0.98      1.00      0.99     14189\n",
            "           1       1.00      0.98      0.99     14785\n",
            "\n",
            "    accuracy                           0.99     28974\n",
            "   macro avg       0.99      0.99      0.99     28974\n",
            "weighted avg       0.99      0.99      0.99     28974\n",
            "\n",
            "classification report of k=  3\n",
            "              precision    recall  f1-score   support\n",
            "\n",
            "           0       0.96      1.00      0.98     13878\n",
            "           1       1.00      0.96      0.98     15096\n",
            "\n",
            "    accuracy                           0.98     28974\n",
            "   macro avg       0.98      0.98      0.98     28974\n",
            "weighted avg       0.98      0.98      0.98     28974\n",
            "\n",
            "classification report of k=  5\n",
            "              precision    recall  f1-score   support\n",
            "\n",
            "           0       0.94      1.00      0.97     13577\n",
            "           1       1.00      0.94      0.97     15397\n",
            "\n",
            "    accuracy                           0.97     28974\n",
            "   macro avg       0.97      0.97      0.97     28974\n",
            "weighted avg       0.97      0.97      0.97     28974\n",
            "\n",
            "classification report of k=  7\n",
            "              precision    recall  f1-score   support\n",
            "\n",
            "           0       0.92      1.00      0.96     13299\n",
            "           1       1.00      0.92      0.96     15675\n",
            "\n",
            "    accuracy                           0.96     28974\n",
            "   macro avg       0.96      0.96      0.96     28974\n",
            "weighted avg       0.96      0.96      0.96     28974\n",
            "\n",
            "classification report of k=  9\n",
            "              precision    recall  f1-score   support\n",
            "\n",
            "           0       0.90      1.00      0.95     13027\n",
            "           1       1.00      0.91      0.95     15947\n",
            "\n",
            "    accuracy                           0.95     28974\n",
            "   macro avg       0.95      0.95      0.95     28974\n",
            "weighted avg       0.95      0.95      0.95     28974\n",
            "\n"
          ]
        }
      ],
      "source": [
        "from sklearn.metrics import classification_report\n",
        "from sklearn.neighbors import KNeighborsClassifier\n",
        "from sklearn.model_selection import train_test_split\n",
        "for i in range (1,10,2):\n",
        "  neigh = KNeighborsClassifier(n_neighbors=i)\n",
        "  # neigh.fit(X_train, Y_train)\n",
        "  neigh.fit(train_X,train_y)\n",
        "  predict = neigh.predict(test_X)\n",
        "  print(\"classification report of k= \", i)\n",
        "  print(classification_report(predict,test_y))"
      ]
    },
    {
      "cell_type": "code",
      "execution_count": null,
      "metadata": {
        "colab": {
          "base_uri": "https://localhost:8080/"
        },
        "id": "atf-yQ4bVUGT",
        "outputId": "56ee4ec7-df47-4091-9216-cf63e5c2bd64"
      },
      "outputs": [
        {
          "name": "stdout",
          "output_type": "stream",
          "text": [
            "              precision    recall  f1-score   support\n",
            "\n",
            "           0       0.58      0.67      0.62     24176\n",
            "           1       0.72      0.63      0.67     32141\n",
            "\n",
            "    accuracy                           0.65     56317\n",
            "   macro avg       0.65      0.65      0.65     56317\n",
            "weighted avg       0.66      0.65      0.65     56317\n",
            "\n"
          ]
        }
      ],
      "source": [
        "from sklearn.svm import SVC\n",
        "classifier = SVC(kernel = 'rbf', random_state = 0)\n",
        "classifier.fit(train_X, train_y)\n",
        "predict = classifier.predict(test_X)\n",
        "print(classification_report(predict,test_y))\n"
      ]
    },
    {
      "cell_type": "code",
      "execution_count": null,
      "metadata": {
        "colab": {
          "base_uri": "https://localhost:8080/",
          "height": 235
        },
        "id": "caXydTQ0SL13",
        "outputId": "31b795fd-549e-4a85-c742-3bc5c6082960"
      },
      "outputs": [
        {
          "data": {
            "text/html": [
              "\n",
              "  <div id=\"df-2a85056e-0936-498a-b11c-bcd497d183fa\">\n",
              "    <div class=\"colab-df-container\">\n",
              "      <div>\n",
              "<style scoped>\n",
              "    .dataframe tbody tr th:only-of-type {\n",
              "        vertical-align: middle;\n",
              "    }\n",
              "\n",
              "    .dataframe tbody tr th {\n",
              "        vertical-align: top;\n",
              "    }\n",
              "\n",
              "    .dataframe thead th {\n",
              "        text-align: right;\n",
              "    }\n",
              "</style>\n",
              "<table border=\"1\" class=\"dataframe\">\n",
              "  <thead>\n",
              "    <tr style=\"text-align: right;\">\n",
              "      <th></th>\n",
              "      <th>TransactionDT</th>\n",
              "      <th>TransactionAmt</th>\n",
              "      <th>card1</th>\n",
              "      <th>card2</th>\n",
              "      <th>card3</th>\n",
              "      <th>card5</th>\n",
              "      <th>addr1</th>\n",
              "      <th>addr2</th>\n",
              "      <th>dist1</th>\n",
              "      <th>dist2</th>\n",
              "      <th>...</th>\n",
              "      <th>id_18</th>\n",
              "      <th>id_19</th>\n",
              "      <th>id_20</th>\n",
              "      <th>id_21</th>\n",
              "      <th>id_22</th>\n",
              "      <th>id_24</th>\n",
              "      <th>id_25</th>\n",
              "      <th>id_26</th>\n",
              "      <th>id_32</th>\n",
              "      <th>0</th>\n",
              "    </tr>\n",
              "  </thead>\n",
              "  <tbody>\n",
              "    <tr>\n",
              "      <th>100000</th>\n",
              "      <td>-1.505604</td>\n",
              "      <td>-0.469470</td>\n",
              "      <td>0.600946</td>\n",
              "      <td>0.831693</td>\n",
              "      <td>2.490853</td>\n",
              "      <td>0.580664</td>\n",
              "      <td>0.074747</td>\n",
              "      <td>0.013602</td>\n",
              "      <td>-0.295815</td>\n",
              "      <td>0.379319</td>\n",
              "      <td>...</td>\n",
              "      <td>0.560351</td>\n",
              "      <td>-0.434496</td>\n",
              "      <td>0.030399</td>\n",
              "      <td>-0.411296</td>\n",
              "      <td>-0.222434</td>\n",
              "      <td>-0.73608</td>\n",
              "      <td>-0.07691</td>\n",
              "      <td>0.012573</td>\n",
              "      <td>1.102639</td>\n",
              "      <td>NaN</td>\n",
              "    </tr>\n",
              "    <tr>\n",
              "      <th>100001</th>\n",
              "      <td>-1.505573</td>\n",
              "      <td>-0.259695</td>\n",
              "      <td>-1.370135</td>\n",
              "      <td>0.252857</td>\n",
              "      <td>2.490853</td>\n",
              "      <td>0.580664</td>\n",
              "      <td>0.074747</td>\n",
              "      <td>0.013602</td>\n",
              "      <td>-0.295815</td>\n",
              "      <td>-0.226720</td>\n",
              "      <td>...</td>\n",
              "      <td>0.560351</td>\n",
              "      <td>-0.601047</td>\n",
              "      <td>-0.467579</td>\n",
              "      <td>-0.411296</td>\n",
              "      <td>-0.222434</td>\n",
              "      <td>-0.73608</td>\n",
              "      <td>-0.07691</td>\n",
              "      <td>0.012573</td>\n",
              "      <td>1.102639</td>\n",
              "      <td>NaN</td>\n",
              "    </tr>\n",
              "    <tr>\n",
              "      <th>100002</th>\n",
              "      <td>-1.505463</td>\n",
              "      <td>-0.078848</td>\n",
              "      <td>-1.448372</td>\n",
              "      <td>0.907193</td>\n",
              "      <td>-0.330189</td>\n",
              "      <td>0.630014</td>\n",
              "      <td>0.183978</td>\n",
              "      <td>0.013602</td>\n",
              "      <td>-0.303574</td>\n",
              "      <td>-0.379578</td>\n",
              "      <td>...</td>\n",
              "      <td>0.560351</td>\n",
              "      <td>-0.316522</td>\n",
              "      <td>0.724946</td>\n",
              "      <td>-0.411296</td>\n",
              "      <td>-0.222434</td>\n",
              "      <td>-0.73608</td>\n",
              "      <td>-0.07691</td>\n",
              "      <td>0.012573</td>\n",
              "      <td>1.102639</td>\n",
              "      <td>NaN</td>\n",
              "    </tr>\n",
              "    <tr>\n",
              "      <th>100003</th>\n",
              "      <td>-1.505442</td>\n",
              "      <td>0.008764</td>\n",
              "      <td>0.333671</td>\n",
              "      <td>1.007860</td>\n",
              "      <td>-0.330189</td>\n",
              "      <td>-0.134913</td>\n",
              "      <td>-0.193365</td>\n",
              "      <td>0.013602</td>\n",
              "      <td>-0.290643</td>\n",
              "      <td>-0.379578</td>\n",
              "      <td>...</td>\n",
              "      <td>0.560351</td>\n",
              "      <td>-0.316522</td>\n",
              "      <td>0.724946</td>\n",
              "      <td>-0.411296</td>\n",
              "      <td>-0.222434</td>\n",
              "      <td>-0.73608</td>\n",
              "      <td>-0.07691</td>\n",
              "      <td>0.012573</td>\n",
              "      <td>1.102639</td>\n",
              "      <td>NaN</td>\n",
              "    </tr>\n",
              "    <tr>\n",
              "      <th>100004</th>\n",
              "      <td>-1.505350</td>\n",
              "      <td>-0.120836</td>\n",
              "      <td>1.018961</td>\n",
              "      <td>1.177736</td>\n",
              "      <td>-0.330189</td>\n",
              "      <td>0.630014</td>\n",
              "      <td>0.074747</td>\n",
              "      <td>0.013602</td>\n",
              "      <td>-0.295815</td>\n",
              "      <td>-0.379578</td>\n",
              "      <td>...</td>\n",
              "      <td>0.560351</td>\n",
              "      <td>-0.316522</td>\n",
              "      <td>0.724946</td>\n",
              "      <td>-0.411296</td>\n",
              "      <td>-0.222434</td>\n",
              "      <td>-0.73608</td>\n",
              "      <td>-0.07691</td>\n",
              "      <td>0.012573</td>\n",
              "      <td>1.102639</td>\n",
              "      <td>NaN</td>\n",
              "    </tr>\n",
              "  </tbody>\n",
              "</table>\n",
              "<p>5 rows × 402 columns</p>\n",
              "</div>\n",
              "      <button class=\"colab-df-convert\" onclick=\"convertToInteractive('df-2a85056e-0936-498a-b11c-bcd497d183fa')\"\n",
              "              title=\"Convert this dataframe to an interactive table.\"\n",
              "              style=\"display:none;\">\n",
              "        \n",
              "  <svg xmlns=\"http://www.w3.org/2000/svg\" height=\"24px\"viewBox=\"0 0 24 24\"\n",
              "       width=\"24px\">\n",
              "    <path d=\"M0 0h24v24H0V0z\" fill=\"none\"/>\n",
              "    <path d=\"M18.56 5.44l.94 2.06.94-2.06 2.06-.94-2.06-.94-.94-2.06-.94 2.06-2.06.94zm-11 1L8.5 8.5l.94-2.06 2.06-.94-2.06-.94L8.5 2.5l-.94 2.06-2.06.94zm10 10l.94 2.06.94-2.06 2.06-.94-2.06-.94-.94-2.06-.94 2.06-2.06.94z\"/><path d=\"M17.41 7.96l-1.37-1.37c-.4-.4-.92-.59-1.43-.59-.52 0-1.04.2-1.43.59L10.3 9.45l-7.72 7.72c-.78.78-.78 2.05 0 2.83L4 21.41c.39.39.9.59 1.41.59.51 0 1.02-.2 1.41-.59l7.78-7.78 2.81-2.81c.8-.78.8-2.07 0-2.86zM5.41 20L4 18.59l7.72-7.72 1.47 1.35L5.41 20z\"/>\n",
              "  </svg>\n",
              "      </button>\n",
              "      \n",
              "  <style>\n",
              "    .colab-df-container {\n",
              "      display:flex;\n",
              "      flex-wrap:wrap;\n",
              "      gap: 12px;\n",
              "    }\n",
              "\n",
              "    .colab-df-convert {\n",
              "      background-color: #E8F0FE;\n",
              "      border: none;\n",
              "      border-radius: 50%;\n",
              "      cursor: pointer;\n",
              "      display: none;\n",
              "      fill: #1967D2;\n",
              "      height: 32px;\n",
              "      padding: 0 0 0 0;\n",
              "      width: 32px;\n",
              "    }\n",
              "\n",
              "    .colab-df-convert:hover {\n",
              "      background-color: #E2EBFA;\n",
              "      box-shadow: 0px 1px 2px rgba(60, 64, 67, 0.3), 0px 1px 3px 1px rgba(60, 64, 67, 0.15);\n",
              "      fill: #174EA6;\n",
              "    }\n",
              "\n",
              "    [theme=dark] .colab-df-convert {\n",
              "      background-color: #3B4455;\n",
              "      fill: #D2E3FC;\n",
              "    }\n",
              "\n",
              "    [theme=dark] .colab-df-convert:hover {\n",
              "      background-color: #434B5C;\n",
              "      box-shadow: 0px 1px 3px 1px rgba(0, 0, 0, 0.15);\n",
              "      filter: drop-shadow(0px 1px 2px rgba(0, 0, 0, 0.3));\n",
              "      fill: #FFFFFF;\n",
              "    }\n",
              "  </style>\n",
              "\n",
              "      <script>\n",
              "        const buttonEl =\n",
              "          document.querySelector('#df-2a85056e-0936-498a-b11c-bcd497d183fa button.colab-df-convert');\n",
              "        buttonEl.style.display =\n",
              "          google.colab.kernel.accessAllowed ? 'block' : 'none';\n",
              "\n",
              "        async function convertToInteractive(key) {\n",
              "          const element = document.querySelector('#df-2a85056e-0936-498a-b11c-bcd497d183fa');\n",
              "          const dataTable =\n",
              "            await google.colab.kernel.invokeFunction('convertToInteractive',\n",
              "                                                     [key], {});\n",
              "          if (!dataTable) return;\n",
              "\n",
              "          const docLinkHtml = 'Like what you see? Visit the ' +\n",
              "            '<a target=\"_blank\" href=https://colab.research.google.com/notebooks/data_table.ipynb>data table notebook</a>'\n",
              "            + ' to learn more about interactive tables.';\n",
              "          element.innerHTML = '';\n",
              "          dataTable['output_type'] = 'display_data';\n",
              "          await google.colab.output.renderOutput(dataTable, element);\n",
              "          const docLink = document.createElement('div');\n",
              "          docLink.innerHTML = docLinkHtml;\n",
              "          element.appendChild(docLink);\n",
              "        }\n",
              "      </script>\n",
              "    </div>\n",
              "  </div>\n",
              "  "
            ],
            "text/plain": [
              "        TransactionDT  TransactionAmt     card1     card2     card3     card5  \\\n",
              "100000      -1.505604       -0.469470  0.600946  0.831693  2.490853  0.580664   \n",
              "100001      -1.505573       -0.259695 -1.370135  0.252857  2.490853  0.580664   \n",
              "100002      -1.505463       -0.078848 -1.448372  0.907193 -0.330189  0.630014   \n",
              "100003      -1.505442        0.008764  0.333671  1.007860 -0.330189 -0.134913   \n",
              "100004      -1.505350       -0.120836  1.018961  1.177736 -0.330189  0.630014   \n",
              "\n",
              "           addr1     addr2     dist1     dist2  ...     id_18     id_19  \\\n",
              "100000  0.074747  0.013602 -0.295815  0.379319  ...  0.560351 -0.434496   \n",
              "100001  0.074747  0.013602 -0.295815 -0.226720  ...  0.560351 -0.601047   \n",
              "100002  0.183978  0.013602 -0.303574 -0.379578  ...  0.560351 -0.316522   \n",
              "100003 -0.193365  0.013602 -0.290643 -0.379578  ...  0.560351 -0.316522   \n",
              "100004  0.074747  0.013602 -0.295815 -0.379578  ...  0.560351 -0.316522   \n",
              "\n",
              "           id_20     id_21     id_22    id_24    id_25     id_26     id_32  \\\n",
              "100000  0.030399 -0.411296 -0.222434 -0.73608 -0.07691  0.012573  1.102639   \n",
              "100001 -0.467579 -0.411296 -0.222434 -0.73608 -0.07691  0.012573  1.102639   \n",
              "100002  0.724946 -0.411296 -0.222434 -0.73608 -0.07691  0.012573  1.102639   \n",
              "100003  0.724946 -0.411296 -0.222434 -0.73608 -0.07691  0.012573  1.102639   \n",
              "100004  0.724946 -0.411296 -0.222434 -0.73608 -0.07691  0.012573  1.102639   \n",
              "\n",
              "          0  \n",
              "100000  NaN  \n",
              "100001  NaN  \n",
              "100002  NaN  \n",
              "100003  NaN  \n",
              "100004  NaN  \n",
              "\n",
              "[5 rows x 402 columns]"
            ]
          },
          "execution_count": 30,
          "metadata": {},
          "output_type": "execute_result"
        }
      ],
      "source": [
        "train.head()\n"
      ]
    },
    {
      "cell_type": "code",
      "execution_count": null,
      "metadata": {
        "colab": {
          "base_uri": "https://localhost:8080/"
        },
        "id": "uKEJBrleSZ3J",
        "outputId": "4ed34a81-9e9f-4fad-9a2b-3deca47cda10"
      },
      "outputs": [
        {
          "data": {
            "text/plain": [
              "0"
            ]
          },
          "execution_count": 57,
          "metadata": {},
          "output_type": "execute_result"
        }
      ],
      "source": [
        "train_X.isna().sum().sum()"
      ]
    },
    {
      "cell_type": "code",
      "execution_count": null,
      "metadata": {
        "colab": {
          "base_uri": "https://localhost:8080/"
        },
        "id": "pldgmgElU-f6",
        "outputId": "df2c10ce-28db-4faf-c748-a847af54e3b9"
      },
      "outputs": [
        {
          "name": "stdout",
          "output_type": "stream",
          "text": [
            "Accuracy: 0.6906983125257237\n",
            "\n",
            "\n",
            "Classification Report\n",
            "\n",
            "              precision    recall  f1-score   support\n",
            "\n",
            "           0       0.63      0.95      0.75     14578\n",
            "           1       0.89      0.44      0.59     14578\n",
            "\n",
            "    accuracy                           0.69     29156\n",
            "   macro avg       0.76      0.69      0.67     29156\n",
            "weighted avg       0.76      0.69      0.67     29156\n",
            "\n"
          ]
        }
      ],
      "source": [
        "from sklearn.naive_bayes import GaussianNB\n",
        "nb = GaussianNB()\n",
        "\n",
        "# Fit the model\n",
        "nb.fit(train_X, train_y)\n",
        "\n",
        "# Print the accuracy score\n",
        "print(\"Accuracy:\",nb.score(test_X, test_y))\n",
        "y_pred = nb.predict(test_X)\n",
        "\n",
        "cr = classification_report(test_y, y_pred)\n",
        "print(\"\\n\\nClassification Report\\n\")\n",
        "print(cr)\n"
      ]
    },
    {
      "cell_type": "code",
      "execution_count": null,
      "metadata": {
        "colab": {
          "background_save": true
        },
        "id": "lnV-SwaLKMjL",
        "outputId": "53a2f920-bd5a-4bee-e39d-f073e0db9947"
      },
      "outputs": [
        {
          "name": "stdout",
          "output_type": "stream",
          "text": [
            "\n",
            "\n",
            "Classification Report\n",
            "\n",
            "              precision    recall  f1-score   support\n",
            "\n",
            "           0       1.00      1.00      1.00     14487\n",
            "           1       1.00      1.00      1.00     14487\n",
            "\n",
            "    accuracy                           1.00     28974\n",
            "   macro avg       1.00      1.00      1.00     28974\n",
            "weighted avg       1.00      1.00      1.00     28974\n",
            "\n"
          ]
        }
      ],
      "source": [
        "from sklearn.ensemble import RandomForestClassifier\n",
        "from sklearn.metrics import roc_auc_score\n",
        "clf_rf_down = RandomForestClassifier(random_state=42)\n",
        "model_rf_down = clf_rf_down.fit(train_X, train_y)\n",
        "y_pred = model_rf_down.predict(test_X)\n",
        "cr = classification_report(test_y, y_pred)\n",
        "print(\"\\n\\nClassification Report\\n\")\n",
        "print(cr)\n"
      ]
    },
    {
      "cell_type": "code",
      "execution_count": null,
      "metadata": {
        "colab": {
          "base_uri": "https://localhost:8080/"
        },
        "id": "cky_EPz2PIXl",
        "outputId": "9fb61fbe-660e-4e3b-f76f-9b168c23c349"
      },
      "outputs": [
        {
          "name": "stdout",
          "output_type": "stream",
          "text": [
            "Confusion Matrix\n",
            "\n",
            "[[28159     0]\n",
            " [    0 28158]]\n"
          ]
        }
      ],
      "source": [
        "from sklearn.metrics import confusion_matrix\n",
        "cm = confusion_matrix(test_y, y_pred)\n",
        "print(\"Confusion Matrix\\n\")\n",
        "print(cm)"
      ]
    },
    {
      "cell_type": "code",
      "execution_count": null,
      "metadata": {
        "colab": {
          "background_save": true
        },
        "id": "7A10KVVAMJsY",
        "outputId": "5e4a3cce-a8f3-4587-e110-951a3da2b7aa"
      },
      "outputs": [
        {
          "name": "stdout",
          "output_type": "stream",
          "text": [
            "\n",
            "\n",
            "Classification Report\n",
            "\n",
            "              precision    recall  f1-score   support\n",
            "\n",
            "           0       1.00      1.00      1.00     14487\n",
            "           1       1.00      1.00      1.00     14487\n",
            "\n",
            "    accuracy                           1.00     28974\n",
            "   macro avg       1.00      1.00      1.00     28974\n",
            "weighted avg       1.00      1.00      1.00     28974\n",
            "\n"
          ]
        }
      ],
      "source": [
        "from xgboost import XGBClassifier\n",
        "XGB_model = XGBClassifier(seed=42,\n",
        "                      n_estimators=500,\n",
        "                      max_depth=10,\n",
        "                      learning_rate=0.2)\n",
        "\n",
        "# model.fit(X_train, y_train)\n",
        "model_xgb_down = XGB_model.fit(train_X, train_y)\n",
        "# y_prob = .predict_proba(test_X)[:, 1]\n",
        "y_pred = model_xgb_down.predict(test_X)\n",
        "\n",
        "cr = classification_report(test_y, y_pred)\n",
        "print(\"\\n\\nClassification Report\\n\")\n",
        "print(cr)\n"
      ]
    },
    {
      "cell_type": "code",
      "execution_count": null,
      "metadata": {
        "id": "SlqFBdW9becI"
      },
      "outputs": [],
      "source": [
        "from sklearn.neural_network import MLPClassifier\n",
        "clf = MLPClassifier(random_state=1, max_iter=300).fit(train_X, train_y)\n",
        "y_pred = clf.predict(test_X)\n",
        "cr = classification_report(test_y, y_pred)\n",
        "print(\"\\n\\nClassification Report\\n\")\n",
        "print(cr)"
      ]
    },
    {
      "cell_type": "code",
      "execution_count": null,
      "metadata": {
        "colab": {
          "base_uri": "https://localhost:8080/"
        },
        "id": "ZNQxwp56iktA",
        "outputId": "153bf2ef-6118-4fd5-ce75-5c983c150b42"
      },
      "outputs": [
        {
          "name": "stdout",
          "output_type": "stream",
          "text": [
            "\n",
            "\n",
            "Classification Report\n",
            "\n",
            "              precision    recall  f1-score   support\n",
            "\n",
            "           0       0.65      0.87      0.74     14428\n",
            "           1       0.81      0.53      0.64     14428\n",
            "\n",
            "    accuracy                           0.70     28856\n",
            "   macro avg       0.73      0.70      0.69     28856\n",
            "weighted avg       0.73      0.70      0.69     28856\n",
            "\n"
          ]
        }
      ],
      "source": [
        "from sklearn.linear_model import LogisticRegression\n",
        "model = LogisticRegression(C=1e20)\n",
        "model.fit(train_X, train_y)\n",
        "preds = model.predict(test_X)\n",
        "cr = classification_report(test_y, preds)\n",
        "print(\"\\n\\nClassification Report\\n\")\n",
        "print(cr)"
      ]
    },
    {
      "cell_type": "markdown",
      "metadata": {
        "id": "92bW_AzV66M6"
      },
      "source": [
        ""
      ]
    }
  ],
  "metadata": {
    "colab": {
      "collapsed_sections": [],
      "name": "mlproj",
      "provenance": []
    },
    "kernelspec": {
      "display_name": "Python 3",
      "name": "python3"
    },
    "language_info": {
      "name": "python"
    }
  },
  "nbformat": 4,
  "nbformat_minor": 0
}